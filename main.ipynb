{
 "metadata": {
  "language_info": {
   "codemirror_mode": {
    "name": "ipython",
    "version": 3
   },
   "file_extension": ".py",
   "mimetype": "text/x-python",
   "name": "python",
   "nbconvert_exporter": "python",
   "pygments_lexer": "ipython3",
   "version": "3.8.5-final"
  },
  "orig_nbformat": 2,
  "kernelspec": {
   "name": "python3",
   "display_name": "Python 3",
   "language": "python"
  }
 },
 "nbformat": 4,
 "nbformat_minor": 2,
 "cells": [
  {
   "cell_type": "code",
   "execution_count": 30,
   "metadata": {},
   "outputs": [
    {
     "output_type": "execute_result",
     "data": {
      "text/plain": [
       "  Student Number  Grade Level  Pre-Achievement Date  Pre-Achievement Score  \\\n",
       "0    G4_21500490            4                 42955                   15.0   \n",
       "1    G4_21500491            4                 42955                   20.0   \n",
       "2    G4_21500492            4                 42955                   10.0   \n",
       "3    G4_21500493            4                 42955                   30.0   \n",
       "4    G4_21500494            4                 42955                   40.0   \n",
       "\n",
       "   Post-Achievement Date  Post-Achievement Score  \n",
       "0                  43235                    16.0  \n",
       "1                  43235                    20.0  \n",
       "2                  43235                     7.0  \n",
       "3                  43235                    25.0  \n",
       "4                  43235                    50.0  "
      ],
      "text/html": "<div>\n<style scoped>\n    .dataframe tbody tr th:only-of-type {\n        vertical-align: middle;\n    }\n\n    .dataframe tbody tr th {\n        vertical-align: top;\n    }\n\n    .dataframe thead th {\n        text-align: right;\n    }\n</style>\n<table border=\"1\" class=\"dataframe\">\n  <thead>\n    <tr style=\"text-align: right;\">\n      <th></th>\n      <th>Student Number</th>\n      <th>Grade Level</th>\n      <th>Pre-Achievement Date</th>\n      <th>Pre-Achievement Score</th>\n      <th>Post-Achievement Date</th>\n      <th>Post-Achievement Score</th>\n    </tr>\n  </thead>\n  <tbody>\n    <tr>\n      <th>0</th>\n      <td>G4_21500490</td>\n      <td>4</td>\n      <td>42955</td>\n      <td>15.0</td>\n      <td>43235</td>\n      <td>16.0</td>\n    </tr>\n    <tr>\n      <th>1</th>\n      <td>G4_21500491</td>\n      <td>4</td>\n      <td>42955</td>\n      <td>20.0</td>\n      <td>43235</td>\n      <td>20.0</td>\n    </tr>\n    <tr>\n      <th>2</th>\n      <td>G4_21500492</td>\n      <td>4</td>\n      <td>42955</td>\n      <td>10.0</td>\n      <td>43235</td>\n      <td>7.0</td>\n    </tr>\n    <tr>\n      <th>3</th>\n      <td>G4_21500493</td>\n      <td>4</td>\n      <td>42955</td>\n      <td>30.0</td>\n      <td>43235</td>\n      <td>25.0</td>\n    </tr>\n    <tr>\n      <th>4</th>\n      <td>G4_21500494</td>\n      <td>4</td>\n      <td>42955</td>\n      <td>40.0</td>\n      <td>43235</td>\n      <td>50.0</td>\n    </tr>\n  </tbody>\n</table>\n</div>"
     },
     "metadata": {},
     "execution_count": 30
    }
   ],
   "source": [
    "import pandas as pd\n",
    "\n",
    "achievement_file = \"data/achievement_file.csv\"\n",
    "SIS_file = \"data/SIS_file.csv\"\n",
    "usage_file = \"data/usage_file.csv\"\n",
    "\n",
    "ach_data = pd.read_csv(achievement_file)\n",
    "ach_data.head()"
   ]
  },
  {
   "cell_type": "code",
   "execution_count": 31,
   "metadata": {},
   "outputs": [
    {
     "output_type": "execute_result",
     "data": {
      "text/plain": [
       "Student Number                      int64\n",
       "Gender                             object\n",
       "Ethnicity                          object\n",
       "School Name                        object\n",
       "Grade Level                         int64\n",
       "Has Section 504 Indicator          object\n",
       "Has Special Education Indicator    object\n",
       "dtype: object"
      ]
     },
     "metadata": {},
     "execution_count": 31
    }
   ],
   "source": [
    "sis_data = pd.read_csv(SIS_file)\n",
    "sis_data.dtypes"
   ]
  },
  {
   "cell_type": "code",
   "execution_count": 32,
   "metadata": {},
   "outputs": [
    {
     "output_type": "execute_result",
     "data": {
      "text/plain": [
       "Student Number     index  Grade Level  Total Minutes on Learning System\n",
       "0               21500490            4                                20\n",
       "1               21500491            4                                25\n",
       "2               21500492            4                                30\n",
       "3               21500493            4                                35\n",
       "4               21500494            4                                50"
      ],
      "text/html": "<div>\n<style scoped>\n    .dataframe tbody tr th:only-of-type {\n        vertical-align: middle;\n    }\n\n    .dataframe tbody tr th {\n        vertical-align: top;\n    }\n\n    .dataframe thead th {\n        text-align: right;\n    }\n</style>\n<table border=\"1\" class=\"dataframe\">\n  <thead>\n    <tr style=\"text-align: right;\">\n      <th>Student Number</th>\n      <th>index</th>\n      <th>Grade Level</th>\n      <th>Total Minutes on Learning System</th>\n    </tr>\n  </thead>\n  <tbody>\n    <tr>\n      <th>0</th>\n      <td>21500490</td>\n      <td>4</td>\n      <td>20</td>\n    </tr>\n    <tr>\n      <th>1</th>\n      <td>21500491</td>\n      <td>4</td>\n      <td>25</td>\n    </tr>\n    <tr>\n      <th>2</th>\n      <td>21500492</td>\n      <td>4</td>\n      <td>30</td>\n    </tr>\n    <tr>\n      <th>3</th>\n      <td>21500493</td>\n      <td>4</td>\n      <td>35</td>\n    </tr>\n    <tr>\n      <th>4</th>\n      <td>21500494</td>\n      <td>4</td>\n      <td>50</td>\n    </tr>\n  </tbody>\n</table>\n</div>"
     },
     "metadata": {},
     "execution_count": 32
    }
   ],
   "source": [
    "usage_data = pd.read_csv(usage_file).set_index(\"Student Number\").transpose()\n",
    "usage_data = usage_data.reset_index()\n",
    "usage_data.head()"
   ]
  },
  {
   "cell_type": "code",
   "execution_count": 33,
   "metadata": {},
   "outputs": [
    {
     "output_type": "execute_result",
     "data": {
      "text/plain": [
       "Student Number\n",
       "Student Number                      int32\n",
       "Grade Level                         int64\n",
       "Total Minutes on Learning System    int64\n",
       "dtype: object"
      ]
     },
     "metadata": {},
     "execution_count": 33
    }
   ],
   "source": [
    "usage_data = usage_data.rename(columns={\"index\":\"Student Number\"})\n",
    "usage_data[\"Student Number\"] = usage_data[\"Student Number\"].astype(int)\n",
    "usage_data.dtypes"
   ]
  },
  {
   "cell_type": "code",
   "execution_count": 34,
   "metadata": {},
   "outputs": [
    {
     "output_type": "stream",
     "name": "stdout",
     "text": [
      "      0         1\n0    G4  21500490\n1    G4  21500491\n2    G4  21500492\n3    G4  21500493\n4    G4  21500494\n..   ..       ...\n444  G8  21500965\n445  G8  21500966\n446  G8  21500967\n447  G8  21500968\n448  G8  21500969\n\n[449 rows x 2 columns]\n"
     ]
    }
   ],
   "source": [
    "new = ach_data[\"Student Number\"].str.split(\"_\", n=1, expand = True)\n",
    "print(new)"
   ]
  },
  {
   "cell_type": "code",
   "execution_count": 35,
   "metadata": {},
   "outputs": [
    {
     "output_type": "execute_result",
     "data": {
      "text/plain": [
       "   Student Number  Grade Level  Pre-Achievement Date  Pre-Achievement Score  \\\n",
       "0        21500490            4                 42955                   15.0   \n",
       "1        21500491            4                 42955                   20.0   \n",
       "2        21500492            4                 42955                   10.0   \n",
       "3        21500493            4                 42955                   30.0   \n",
       "4        21500494            4                 42955                   40.0   \n",
       "\n",
       "   Post-Achievement Date  Post-Achievement Score  \n",
       "0                  43235                    16.0  \n",
       "1                  43235                    20.0  \n",
       "2                  43235                     7.0  \n",
       "3                  43235                    25.0  \n",
       "4                  43235                    50.0  "
      ],
      "text/html": "<div>\n<style scoped>\n    .dataframe tbody tr th:only-of-type {\n        vertical-align: middle;\n    }\n\n    .dataframe tbody tr th {\n        vertical-align: top;\n    }\n\n    .dataframe thead th {\n        text-align: right;\n    }\n</style>\n<table border=\"1\" class=\"dataframe\">\n  <thead>\n    <tr style=\"text-align: right;\">\n      <th></th>\n      <th>Student Number</th>\n      <th>Grade Level</th>\n      <th>Pre-Achievement Date</th>\n      <th>Pre-Achievement Score</th>\n      <th>Post-Achievement Date</th>\n      <th>Post-Achievement Score</th>\n    </tr>\n  </thead>\n  <tbody>\n    <tr>\n      <th>0</th>\n      <td>21500490</td>\n      <td>4</td>\n      <td>42955</td>\n      <td>15.0</td>\n      <td>43235</td>\n      <td>16.0</td>\n    </tr>\n    <tr>\n      <th>1</th>\n      <td>21500491</td>\n      <td>4</td>\n      <td>42955</td>\n      <td>20.0</td>\n      <td>43235</td>\n      <td>20.0</td>\n    </tr>\n    <tr>\n      <th>2</th>\n      <td>21500492</td>\n      <td>4</td>\n      <td>42955</td>\n      <td>10.0</td>\n      <td>43235</td>\n      <td>7.0</td>\n    </tr>\n    <tr>\n      <th>3</th>\n      <td>21500493</td>\n      <td>4</td>\n      <td>42955</td>\n      <td>30.0</td>\n      <td>43235</td>\n      <td>25.0</td>\n    </tr>\n    <tr>\n      <th>4</th>\n      <td>21500494</td>\n      <td>4</td>\n      <td>42955</td>\n      <td>40.0</td>\n      <td>43235</td>\n      <td>50.0</td>\n    </tr>\n  </tbody>\n</table>\n</div>"
     },
     "metadata": {},
     "execution_count": 35
    }
   ],
   "source": [
    "ach_data[\"Student Number\"] = new[1].astype(int)\n",
    "ach_data.head()"
   ]
  },
  {
   "cell_type": "code",
   "execution_count": 36,
   "metadata": {},
   "outputs": [
    {
     "output_type": "execute_result",
     "data": {
      "text/plain": [
       "   Student Number Gender Ethnicity        School Name  Grade Level_x  \\\n",
       "0        21500969      F     black  Lunar Blue School              8   \n",
       "1        21500968      F     black  Lunar Blue School              8   \n",
       "2        21500967      F     black  Lunar Blue School              8   \n",
       "3        21500966      F     black  Lunar Blue School              8   \n",
       "4        21500965      F     black  Lunar Blue School              8   \n",
       "\n",
       "  Has Section 504 Indicator Has Special Education Indicator  Grade Level_y  \\\n",
       "0                     False                           False            8.0   \n",
       "1                     False                           False            8.0   \n",
       "2                     False                           False            8.0   \n",
       "3                     False                           False            8.0   \n",
       "4                     False                           False            8.0   \n",
       "\n",
       "   Pre-Achievement Date  Pre-Achievement Score  Post-Achievement Date  \\\n",
       "0               42955.0                   35.0                43235.0   \n",
       "1               42955.0                   30.0                43235.0   \n",
       "2               42955.0                   55.0                43235.0   \n",
       "3               42955.0                   50.0                43235.0   \n",
       "4               42955.0                    5.0                43235.0   \n",
       "\n",
       "   Post-Achievement Score  \n",
       "0                    14.0  \n",
       "1                    17.0  \n",
       "2                    74.0  \n",
       "3                    77.0  \n",
       "4                     4.0  "
      ],
      "text/html": "<div>\n<style scoped>\n    .dataframe tbody tr th:only-of-type {\n        vertical-align: middle;\n    }\n\n    .dataframe tbody tr th {\n        vertical-align: top;\n    }\n\n    .dataframe thead th {\n        text-align: right;\n    }\n</style>\n<table border=\"1\" class=\"dataframe\">\n  <thead>\n    <tr style=\"text-align: right;\">\n      <th></th>\n      <th>Student Number</th>\n      <th>Gender</th>\n      <th>Ethnicity</th>\n      <th>School Name</th>\n      <th>Grade Level_x</th>\n      <th>Has Section 504 Indicator</th>\n      <th>Has Special Education Indicator</th>\n      <th>Grade Level_y</th>\n      <th>Pre-Achievement Date</th>\n      <th>Pre-Achievement Score</th>\n      <th>Post-Achievement Date</th>\n      <th>Post-Achievement Score</th>\n    </tr>\n  </thead>\n  <tbody>\n    <tr>\n      <th>0</th>\n      <td>21500969</td>\n      <td>F</td>\n      <td>black</td>\n      <td>Lunar Blue School</td>\n      <td>8</td>\n      <td>False</td>\n      <td>False</td>\n      <td>8.0</td>\n      <td>42955.0</td>\n      <td>35.0</td>\n      <td>43235.0</td>\n      <td>14.0</td>\n    </tr>\n    <tr>\n      <th>1</th>\n      <td>21500968</td>\n      <td>F</td>\n      <td>black</td>\n      <td>Lunar Blue School</td>\n      <td>8</td>\n      <td>False</td>\n      <td>False</td>\n      <td>8.0</td>\n      <td>42955.0</td>\n      <td>30.0</td>\n      <td>43235.0</td>\n      <td>17.0</td>\n    </tr>\n    <tr>\n      <th>2</th>\n      <td>21500967</td>\n      <td>F</td>\n      <td>black</td>\n      <td>Lunar Blue School</td>\n      <td>8</td>\n      <td>False</td>\n      <td>False</td>\n      <td>8.0</td>\n      <td>42955.0</td>\n      <td>55.0</td>\n      <td>43235.0</td>\n      <td>74.0</td>\n    </tr>\n    <tr>\n      <th>3</th>\n      <td>21500966</td>\n      <td>F</td>\n      <td>black</td>\n      <td>Lunar Blue School</td>\n      <td>8</td>\n      <td>False</td>\n      <td>False</td>\n      <td>8.0</td>\n      <td>42955.0</td>\n      <td>50.0</td>\n      <td>43235.0</td>\n      <td>77.0</td>\n    </tr>\n    <tr>\n      <th>4</th>\n      <td>21500965</td>\n      <td>F</td>\n      <td>black</td>\n      <td>Lunar Blue School</td>\n      <td>8</td>\n      <td>False</td>\n      <td>False</td>\n      <td>8.0</td>\n      <td>42955.0</td>\n      <td>5.0</td>\n      <td>43235.0</td>\n      <td>4.0</td>\n    </tr>\n  </tbody>\n</table>\n</div>"
     },
     "metadata": {},
     "execution_count": 36
    }
   ],
   "source": [
    "merged_data = pd.merge(sis_data, ach_data, on=\"Student Number\", how=\"left\")\n",
    "merged_data.head()"
   ]
  },
  {
   "cell_type": "code",
   "execution_count": 37,
   "metadata": {},
   "outputs": [
    {
     "output_type": "execute_result",
     "data": {
      "text/plain": [
       "   Student Number Gender Ethnicity        School Name  Grade Level  \\\n",
       "0        21500969      F     black  Lunar Blue School            8   \n",
       "1        21500968      F     black  Lunar Blue School            8   \n",
       "2        21500967      F     black  Lunar Blue School            8   \n",
       "3        21500966      F     black  Lunar Blue School            8   \n",
       "4        21500965      F     black  Lunar Blue School            8   \n",
       "\n",
       "  Has Section 504 Indicator Has Special Education Indicator  \\\n",
       "0                     False                           False   \n",
       "1                     False                           False   \n",
       "2                     False                           False   \n",
       "3                     False                           False   \n",
       "4                     False                           False   \n",
       "\n",
       "   Pre-Achievement Date  Pre-Achievement Score  Post-Achievement Date  \\\n",
       "0               42955.0                   35.0                43235.0   \n",
       "1               42955.0                   30.0                43235.0   \n",
       "2               42955.0                   55.0                43235.0   \n",
       "3               42955.0                   50.0                43235.0   \n",
       "4               42955.0                    5.0                43235.0   \n",
       "\n",
       "   Post-Achievement Score  Total Minutes on Learning System  \n",
       "0                    14.0                              62.0  \n",
       "1                    17.0                              57.0  \n",
       "2                    74.0                              29.0  \n",
       "3                    77.0                              28.0  \n",
       "4                     4.0                               8.0  "
      ],
      "text/html": "<div>\n<style scoped>\n    .dataframe tbody tr th:only-of-type {\n        vertical-align: middle;\n    }\n\n    .dataframe tbody tr th {\n        vertical-align: top;\n    }\n\n    .dataframe thead th {\n        text-align: right;\n    }\n</style>\n<table border=\"1\" class=\"dataframe\">\n  <thead>\n    <tr style=\"text-align: right;\">\n      <th></th>\n      <th>Student Number</th>\n      <th>Gender</th>\n      <th>Ethnicity</th>\n      <th>School Name</th>\n      <th>Grade Level</th>\n      <th>Has Section 504 Indicator</th>\n      <th>Has Special Education Indicator</th>\n      <th>Pre-Achievement Date</th>\n      <th>Pre-Achievement Score</th>\n      <th>Post-Achievement Date</th>\n      <th>Post-Achievement Score</th>\n      <th>Total Minutes on Learning System</th>\n    </tr>\n  </thead>\n  <tbody>\n    <tr>\n      <th>0</th>\n      <td>21500969</td>\n      <td>F</td>\n      <td>black</td>\n      <td>Lunar Blue School</td>\n      <td>8</td>\n      <td>False</td>\n      <td>False</td>\n      <td>42955.0</td>\n      <td>35.0</td>\n      <td>43235.0</td>\n      <td>14.0</td>\n      <td>62.0</td>\n    </tr>\n    <tr>\n      <th>1</th>\n      <td>21500968</td>\n      <td>F</td>\n      <td>black</td>\n      <td>Lunar Blue School</td>\n      <td>8</td>\n      <td>False</td>\n      <td>False</td>\n      <td>42955.0</td>\n      <td>30.0</td>\n      <td>43235.0</td>\n      <td>17.0</td>\n      <td>57.0</td>\n    </tr>\n    <tr>\n      <th>2</th>\n      <td>21500967</td>\n      <td>F</td>\n      <td>black</td>\n      <td>Lunar Blue School</td>\n      <td>8</td>\n      <td>False</td>\n      <td>False</td>\n      <td>42955.0</td>\n      <td>55.0</td>\n      <td>43235.0</td>\n      <td>74.0</td>\n      <td>29.0</td>\n    </tr>\n    <tr>\n      <th>3</th>\n      <td>21500966</td>\n      <td>F</td>\n      <td>black</td>\n      <td>Lunar Blue School</td>\n      <td>8</td>\n      <td>False</td>\n      <td>False</td>\n      <td>42955.0</td>\n      <td>50.0</td>\n      <td>43235.0</td>\n      <td>77.0</td>\n      <td>28.0</td>\n    </tr>\n    <tr>\n      <th>4</th>\n      <td>21500965</td>\n      <td>F</td>\n      <td>black</td>\n      <td>Lunar Blue School</td>\n      <td>8</td>\n      <td>False</td>\n      <td>False</td>\n      <td>42955.0</td>\n      <td>5.0</td>\n      <td>43235.0</td>\n      <td>4.0</td>\n      <td>8.0</td>\n    </tr>\n  </tbody>\n</table>\n</div>"
     },
     "metadata": {},
     "execution_count": 37
    }
   ],
   "source": [
    "merged_data = pd.merge(merged_data, usage_data, on=\"Student Number\", how=\"left\")\n",
    "merged_data = merged_data.drop(columns={\"Grade Level_y\", \"Grade Level\"}).rename(columns={\"Grade Level_x\":\"Grade Level\"})\n",
    "merged_data.head()"
   ]
  },
  {
   "cell_type": "code",
   "execution_count": 38,
   "metadata": {},
   "outputs": [
    {
     "output_type": "execute_result",
     "data": {
      "text/plain": [
       "               Gender Ethnicity        School Name  Grade Level  \\\n",
       "Student Number                                                    \n",
       "21500969            F     black  Lunar Blue School            8   \n",
       "21500968            F     black  Lunar Blue School            8   \n",
       "21500967            F     black  Lunar Blue School            8   \n",
       "21500966            F     black  Lunar Blue School            8   \n",
       "21500965            F     black  Lunar Blue School            8   \n",
       "\n",
       "               Has Section 504 Indicator Has Special Education Indicator  \\\n",
       "Student Number                                                             \n",
       "21500969                           False                           False   \n",
       "21500968                           False                           False   \n",
       "21500967                           False                           False   \n",
       "21500966                           False                           False   \n",
       "21500965                           False                           False   \n",
       "\n",
       "                Pre-Achievement Date  Pre-Achievement Score  \\\n",
       "Student Number                                                \n",
       "21500969                     42955.0                   35.0   \n",
       "21500968                     42955.0                   30.0   \n",
       "21500967                     42955.0                   55.0   \n",
       "21500966                     42955.0                   50.0   \n",
       "21500965                     42955.0                    5.0   \n",
       "\n",
       "                Post-Achievement Date  Post-Achievement Score  \\\n",
       "Student Number                                                  \n",
       "21500969                      43235.0                    14.0   \n",
       "21500968                      43235.0                    17.0   \n",
       "21500967                      43235.0                    74.0   \n",
       "21500966                      43235.0                    77.0   \n",
       "21500965                      43235.0                     4.0   \n",
       "\n",
       "                Total Minutes on Learning System  \n",
       "Student Number                                    \n",
       "21500969                                    62.0  \n",
       "21500968                                    57.0  \n",
       "21500967                                    29.0  \n",
       "21500966                                    28.0  \n",
       "21500965                                     8.0  "
      ],
      "text/html": "<div>\n<style scoped>\n    .dataframe tbody tr th:only-of-type {\n        vertical-align: middle;\n    }\n\n    .dataframe tbody tr th {\n        vertical-align: top;\n    }\n\n    .dataframe thead th {\n        text-align: right;\n    }\n</style>\n<table border=\"1\" class=\"dataframe\">\n  <thead>\n    <tr style=\"text-align: right;\">\n      <th></th>\n      <th>Gender</th>\n      <th>Ethnicity</th>\n      <th>School Name</th>\n      <th>Grade Level</th>\n      <th>Has Section 504 Indicator</th>\n      <th>Has Special Education Indicator</th>\n      <th>Pre-Achievement Date</th>\n      <th>Pre-Achievement Score</th>\n      <th>Post-Achievement Date</th>\n      <th>Post-Achievement Score</th>\n      <th>Total Minutes on Learning System</th>\n    </tr>\n    <tr>\n      <th>Student Number</th>\n      <th></th>\n      <th></th>\n      <th></th>\n      <th></th>\n      <th></th>\n      <th></th>\n      <th></th>\n      <th></th>\n      <th></th>\n      <th></th>\n      <th></th>\n    </tr>\n  </thead>\n  <tbody>\n    <tr>\n      <th>21500969</th>\n      <td>F</td>\n      <td>black</td>\n      <td>Lunar Blue School</td>\n      <td>8</td>\n      <td>False</td>\n      <td>False</td>\n      <td>42955.0</td>\n      <td>35.0</td>\n      <td>43235.0</td>\n      <td>14.0</td>\n      <td>62.0</td>\n    </tr>\n    <tr>\n      <th>21500968</th>\n      <td>F</td>\n      <td>black</td>\n      <td>Lunar Blue School</td>\n      <td>8</td>\n      <td>False</td>\n      <td>False</td>\n      <td>42955.0</td>\n      <td>30.0</td>\n      <td>43235.0</td>\n      <td>17.0</td>\n      <td>57.0</td>\n    </tr>\n    <tr>\n      <th>21500967</th>\n      <td>F</td>\n      <td>black</td>\n      <td>Lunar Blue School</td>\n      <td>8</td>\n      <td>False</td>\n      <td>False</td>\n      <td>42955.0</td>\n      <td>55.0</td>\n      <td>43235.0</td>\n      <td>74.0</td>\n      <td>29.0</td>\n    </tr>\n    <tr>\n      <th>21500966</th>\n      <td>F</td>\n      <td>black</td>\n      <td>Lunar Blue School</td>\n      <td>8</td>\n      <td>False</td>\n      <td>False</td>\n      <td>42955.0</td>\n      <td>50.0</td>\n      <td>43235.0</td>\n      <td>77.0</td>\n      <td>28.0</td>\n    </tr>\n    <tr>\n      <th>21500965</th>\n      <td>F</td>\n      <td>black</td>\n      <td>Lunar Blue School</td>\n      <td>8</td>\n      <td>False</td>\n      <td>False</td>\n      <td>42955.0</td>\n      <td>5.0</td>\n      <td>43235.0</td>\n      <td>4.0</td>\n      <td>8.0</td>\n    </tr>\n  </tbody>\n</table>\n</div>"
     },
     "metadata": {},
     "execution_count": 38
    }
   ],
   "source": [
    "merged_data = merged_data.set_index(\"Student Number\")\n",
    "merged_data.head()"
   ]
  },
  {
   "cell_type": "code",
   "execution_count": 40,
   "metadata": {},
   "outputs": [],
   "source": [
    "merged_data.to_csv(\"data/merged_data.csv\", index=True, header=True)"
   ]
  },
  {
   "cell_type": "code",
   "execution_count": null,
   "metadata": {},
   "outputs": [],
   "source": []
  }
 ]
}